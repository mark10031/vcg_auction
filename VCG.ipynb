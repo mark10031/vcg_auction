{
 "cells": [
  {
   "cell_type": "code",
   "execution_count": 17,
   "metadata": {},
   "outputs": [],
   "source": [
    "import numpy as np"
   ]
  },
  {
   "cell_type": "code",
   "execution_count": 25,
   "metadata": {},
   "outputs": [],
   "source": [
    "Bids = [[0, 0, 26, 8, 59, 5, 42, 17, 6, 34], \n",
    "[0, 0,11, 18, 53, 9, 40, 22, 17, 35], \n",
    "[0, 0,19, 25, 50, 24, 49, 23, 21, 31], \n",
    "[0, 0,2, 3, 52, 3, 45, 14, 21, 38], \n",
    "[0, 0,1, 23, 54, 28, 47, 17, 14, 33], \n",
    "[0, 0,22, 27, 57, 27, 43, 19, 23, 36], \n",
    "[0, 0,21, 19, 55, 28, 46, 16, 5, 32], \n",
    "[0, 0,20, 12, 56, 18, 41, 16, 10, 39], \n",
    "[0, 0,2, 4, 58, 28, 48, 26, 15, 30], \n",
    "[0, 0,20, 9, 51, 10, 44, 20, 6, 37]]"
   ]
  },
  {
   "cell_type": "code",
   "execution_count": 26,
   "metadata": {},
   "outputs": [],
   "source": [
    "def multibid (bidder, items):\n",
    "    max_bid = 0\n",
    "    for item in items:\n",
    "        if Bids[bidder][item] > max_bid:\n",
    "            max_bid = Bids[bidder][item]\n",
    "    return max_bid"
   ]
  },
  {
   "cell_type": "code",
   "execution_count": 91,
   "metadata": {},
   "outputs": [],
   "source": [
    "def recursion (depth, left, current, excluded):\n",
    "    for x in excluded:\n",
    "        if x == depth:\n",
    "            depth += 1\n",
    "    global max_value\n",
    "    if len(left) == 0:\n",
    "        return\n",
    "    if depth >= len(current):\n",
    "        return\n",
    "    for item in left:\n",
    "        for x in range(depth, len(current)):\n",
    "            current[x] = 0\n",
    "        new_left = list.copy(left)\n",
    "        new_left.remove(item)\n",
    "        current[depth] = item\n",
    "        if value(current) > max_value:\n",
    "            max_value = value(current)\n",
    "        recursion (depth + 1, new_left, current, excluded)\n",
    "    return current"
   ]
  },
  {
   "cell_type": "code",
   "execution_count": 65,
   "metadata": {},
   "outputs": [],
   "source": [
    "def value(alloc):\n",
    "    value = 0\n",
    "    for x in range(10):\n",
    "        value += Bids[x][alloc[x]]\n",
    "    return value"
   ]
  },
  {
   "cell_type": "code",
   "execution_count": 92,
   "metadata": {},
   "outputs": [],
   "source": [
    "def run_auction():\n",
    "    global max_value\n",
    "    max_value = 0\n",
    "    outcome = recursion(0, [0, 1, 2, 3, 4, 5, 6, 7, 8, 9], [0 for x in range(10)], [])\n",
    "    print('Maximum bidset of ', max_value, ' achieved with allocation ', outcome)\n",
    "    valueswo = []\n",
    "    for x in range(10):\n",
    "        max_value = 0\n",
    "        outcome = recursion(0, [0, 1, 2, 3, 4, 5, 6, 7, 8, 9], [0 for x in range(10)], [x])\n",
    "        print('Without ', x, ', maximum bidset of ', max_value, ' achieved with allocation ', outcome)"
   ]
  },
  {
   "cell_type": "code",
   "execution_count": 93,
   "metadata": {},
   "outputs": [
    {
     "name": "stdout",
     "output_type": "stream",
     "text": [
      "Maximum bidset of  271  achieved with allocation  [9, 8, 7, 6, 5, 4, 3, 2, 1, 0]\n",
      "Without  0 , maximum bidset of  265  achieved with allocation  [0, 9, 8, 7, 6, 5, 4, 3, 2, 1]\n",
      "Without  1 , maximum bidset of  271  achieved with allocation  [9, 0, 8, 7, 6, 5, 4, 3, 2, 1]\n",
      "Without  2 , maximum bidset of  268  achieved with allocation  [9, 8, 0, 7, 6, 5, 4, 3, 2, 1]\n",
      "Without  3 , maximum bidset of  268  achieved with allocation  [9, 8, 7, 0, 6, 5, 4, 3, 2, 1]\n",
      "Without  4 , maximum bidset of  270  achieved with allocation  [9, 8, 7, 6, 0, 5, 4, 3, 2, 1]\n",
      "Without  5 , maximum bidset of  266  achieved with allocation  [9, 8, 7, 6, 5, 0, 4, 3, 2, 1]\n",
      "Without  6 , maximum bidset of  270  achieved with allocation  [9, 8, 7, 6, 5, 4, 0, 3, 2, 1]\n",
      "Without  7 , maximum bidset of  269  achieved with allocation  [9, 8, 7, 6, 5, 4, 3, 0, 2, 1]\n",
      "Without  8 , maximum bidset of  267  achieved with allocation  [9, 8, 7, 6, 5, 4, 3, 2, 0, 1]\n",
      "Without  9 , maximum bidset of  271  achieved with allocation  [9, 8, 7, 6, 5, 4, 3, 2, 1, 0]\n"
     ]
    }
   ],
   "source": [
    "run_auction()"
   ]
  },
  {
   "cell_type": "code",
   "execution_count": null,
   "metadata": {},
   "outputs": [],
   "source": []
  }
 ],
 "metadata": {
  "kernelspec": {
   "display_name": "Python 3",
   "language": "python",
   "name": "python3"
  },
  "language_info": {
   "codemirror_mode": {
    "name": "ipython",
    "version": 3
   },
   "file_extension": ".py",
   "mimetype": "text/x-python",
   "name": "python",
   "nbconvert_exporter": "python",
   "pygments_lexer": "ipython3",
   "version": "3.6.5"
  }
 },
 "nbformat": 4,
 "nbformat_minor": 2
}
